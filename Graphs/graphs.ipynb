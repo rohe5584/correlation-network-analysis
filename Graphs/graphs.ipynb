{
 "cells": [
  {
   "cell_type": "code",
   "execution_count": 38,
   "metadata": {},
   "outputs": [],
   "source": [
    "import pandas as pd\n",
    "import re\n",
    "import matplotlib.pyplot as plt"
   ]
  },
  {
   "cell_type": "code",
   "execution_count": 40,
   "metadata": {},
   "outputs": [],
   "source": [
    "file_list = pd.read_csv(r\"C:\\Users\\Robert\\Desktop\\correlation-network-analysis\\Graphs\\graphs.csv\")\n",
    "for i in range (1, len(file_list)):\n",
    "    current_file_path = re.findall(\"^.{2}(.*)\", file_list.iloc[i][0])\n",
    "    current_file = pd.read_csv(r\"C:\\Users\\Robert\\Desktop\\correlation-network-analysis\" + current_file_path[0])\n",
    "    current_file.rename(columns={current_file.columns[0]: \"Date\" }, inplace = True)\n",
    "    current_file['Date'] = pd.to_datetime(current_file['Date'])\n",
    "    filtered_file = current_file.loc[(current_file['Date'] >= '2012-12-01') & (current_file['Date'] < '2022-09-01')]\n",
    "\n",
    "    date = filtered_file['Date']\n",
    "    headers = list(filtered_file.columns.values)\n",
    "    name = headers[1]\n",
    "    title = \"Historical \" + name\n",
    "\n",
    "    plt.plot(date, filtered_file[name])\n",
    "    plt.xlabel(\"Date\")\n",
    "    plt.ylabel(\"Price\")\n",
    "    plt.title(title)\n",
    "    png_title = name + '.png'\n",
    "    plt.savefig(png_title)\n",
    "    plt.close()\n",
    "\n"
   ]
  }
 ],
 "metadata": {
  "kernelspec": {
   "display_name": "Python 3.9.0 64-bit",
   "language": "python",
   "name": "python3"
  },
  "language_info": {
   "codemirror_mode": {
    "name": "ipython",
    "version": 3
   },
   "file_extension": ".py",
   "mimetype": "text/x-python",
   "name": "python",
   "nbconvert_exporter": "python",
   "pygments_lexer": "ipython3",
   "version": "3.9.0"
  },
  "orig_nbformat": 4,
  "vscode": {
   "interpreter": {
    "hash": "81794d4967e6c3204c66dcd87b604927b115b27c00565d3d43f05ba2f3a2cb0d"
   }
  }
 },
 "nbformat": 4,
 "nbformat_minor": 2
}
